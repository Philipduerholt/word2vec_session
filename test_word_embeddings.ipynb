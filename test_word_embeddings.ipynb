{
 "cells": [
  {
   "cell_type": "markdown",
   "metadata": {},
   "source": [
    "## Test pre-trained word embeddings"
   ]
  },
  {
   "cell_type": "code",
   "execution_count": 18,
   "metadata": {
    "collapsed": true
   },
   "outputs": [],
   "source": [
    "from sklearn.metrics.pairwise import cosine_similarity\n",
    "import pickle\n",
    "import numpy as np"
   ]
  },
  {
   "cell_type": "markdown",
   "metadata": {},
   "source": [
    "### Load word embedding"
   ]
  },
  {
   "cell_type": "code",
   "execution_count": 7,
   "metadata": {
    "collapsed": false
   },
   "outputs": [],
   "source": [
    "with open(\"glove.6B.100d.txt\", 'r', encoding='utf-8') as f:\n",
    "    emb = f.readlines()"
   ]
  },
  {
   "cell_type": "code",
   "execution_count": null,
   "metadata": {
    "collapsed": true
   },
   "outputs": [],
   "source": [
    "# sanity check\n",
    "#emb[:20]"
   ]
  },
  {
   "cell_type": "markdown",
   "metadata": {},
   "source": [
    "### Read glove format and produce word: vector map as dictionary\n",
    "\n",
    "Note: If you load a different pre-trained embedding, you might need to change this accordingly."
   ]
  },
  {
   "cell_type": "code",
   "execution_count": 26,
   "metadata": {
    "collapsed": false
   },
   "outputs": [],
   "source": [
    "emb_map = {word_vec.split(maxsplit=1)[0]: [float(x) for x in word_vec.split(maxsplit=1)[1].split()] for word_vec in emb}"
   ]
  },
  {
   "cell_type": "markdown",
   "metadata": {},
   "source": [
    "### Produce test vector"
   ]
  },
  {
   "cell_type": "code",
   "execution_count": 153,
   "metadata": {
    "collapsed": false
   },
   "outputs": [],
   "source": [
    "test_vector = np.array(emb_map['king']) - np.array(emb_map['man']) + np.array(emb_map['woman'])\n",
    "test_vector = np.array(emb_map['sushi']) - np.array(emb_map['japan']) + np.array(emb_map['spain'])\n",
    "test_vector = np.array(emb_map['berlin']) - np.array(emb_map['germany']) + np.array(emb_map['france'])\n",
    "test_vector = np.array(emb_map['bmw']) - np.array(emb_map['germany']) + np.array(emb_map['usa'])\n",
    "\n",
    "test_vector = np.array(emb_map['man']) - np.array(emb_map['woman']) + np.array(emb_map['day'])\n",
    "test_vector = np.array(emb_map['water']) + np.array(emb_map['wine'])"
   ]
  },
  {
   "cell_type": "markdown",
   "metadata": {},
   "source": [
    "### Generate similariy matrix calculating the cos similarity between the test vector and all other word vectors"
   ]
  },
  {
   "cell_type": "code",
   "execution_count": 157,
   "metadata": {
    "collapsed": false
   },
   "outputs": [],
   "source": [
    "sim_matrix = []\n",
    "for k, v in emb_map.items():\n",
    "    v = np.array(v)\n",
    "    sim_matrix.append((k, cosine_similarity(test_vector.reshape(1, -1), v.reshape(1, -1))))"
   ]
  },
  {
   "cell_type": "code",
   "execution_count": 158,
   "metadata": {
    "collapsed": false
   },
   "outputs": [],
   "source": [
    "# sort most similar word vectors\n",
    "\n",
    "sim_matrix.sort(key=lambda x: x[1], reverse=True)"
   ]
  },
  {
   "cell_type": "code",
   "execution_count": 159,
   "metadata": {
    "collapsed": false
   },
   "outputs": [
    {
     "data": {
      "text/plain": [
       "[('day', array([[ 0.87684423]])),\n",
       " ('days', array([[ 0.76509387]])),\n",
       " ('time', array([[ 0.7613039]])),\n",
       " ('week', array([[ 0.73134851]])),\n",
       " ('last', array([[ 0.72871791]])),\n",
       " ('night', array([[ 0.72608259]])),\n",
       " ('here', array([[ 0.72429461]])),\n",
       " ('weekend', array([[ 0.71929217]])),\n",
       " ('next', array([[ 0.71897803]])),\n",
       " ('came', array([[ 0.71622974]])),\n",
       " ('end', array([[ 0.71520564]])),\n",
       " ('coming', array([[ 0.71163321]])),\n",
       " ('before', array([[ 0.70928444]])),\n",
       " ('this', array([[ 0.6989447]])),\n",
       " ('sunday', array([[ 0.69380595]])),\n",
       " ('start', array([[ 0.69304356]])),\n",
       " ('just', array([[ 0.69183953]])),\n",
       " ('one', array([[ 0.6916733]])),\n",
       " ('during', array([[ 0.69135084]])),\n",
       " ('on', array([[ 0.68946531]])),\n",
       " ('today', array([[ 0.68314928]])),\n",
       " ('saturday', array([[ 0.68131443]])),\n",
       " ('after', array([[ 0.68072571]])),\n",
       " ('hour', array([[ 0.68025739]])),\n",
       " ('year', array([[ 0.67850375]])),\n",
       " ('but', array([[ 0.67714291]])),\n",
       " ('morning', array([[ 0.67516307]])),\n",
       " ('hours', array([[ 0.67395039]])),\n",
       " ('when', array([[ 0.6736904]])),\n",
       " ('place', array([[ 0.67280192]])),\n",
       " ('month', array([[ 0.67239281]])),\n",
       " ('way', array([[ 0.67044097]])),\n",
       " ('up', array([[ 0.66717996]])),\n",
       " ('first', array([[ 0.66611344]])),\n",
       " ('we', array([[ 0.66472271]])),\n",
       " ('all', array([[ 0.66437701]])),\n",
       " ('opening', array([[ 0.66288422]])),\n",
       " ('going', array([[ 0.66287731]])),\n",
       " ('over', array([[ 0.6628696]])),\n",
       " ('friday', array([[ 0.66268166]])),\n",
       " ('took', array([[ 0.65839833]])),\n",
       " ('rest', array([[ 0.65825327]])),\n",
       " ('afternoon', array([[ 0.65741569]])),\n",
       " ('out', array([[ 0.65690045]])),\n",
       " ('monday', array([[ 0.65620557]])),\n",
       " ('come', array([[ 0.65598519]])),\n",
       " ('the', array([[ 0.6557243]])),\n",
       " ('as', array([[ 0.65544318]])),\n",
       " ('weeks', array([[ 0.65255405]])),\n",
       " ('set', array([[ 0.65181069]]))]"
      ]
     },
     "execution_count": 159,
     "metadata": {},
     "output_type": "execute_result"
    }
   ],
   "source": [
    "sim_matrix[:50]"
   ]
  },
  {
   "cell_type": "markdown",
   "metadata": {},
   "source": [
    "#### king - man + woman"
   ]
  },
  {
   "cell_type": "code",
   "execution_count": 130,
   "metadata": {
    "collapsed": false
   },
   "outputs": [
    {
     "data": {
      "text/plain": [
       "[('king', array([[ 0.85518372]])),\n",
       " ('queen', array([[ 0.78344143]])),\n",
       " ('monarch', array([[ 0.69338023]])),\n",
       " ('throne', array([[ 0.68331102]])),\n",
       " ('daughter', array([[ 0.68090825]])),\n",
       " ('prince', array([[ 0.67131421]])),\n",
       " ('princess', array([[ 0.66440829]])),\n",
       " ('mother', array([[ 0.65793253]])),\n",
       " ('elizabeth', array([[ 0.65633007]])),\n",
       " ('father', array([[ 0.63924191]])),\n",
       " ('wife', array([[ 0.63518652]])),\n",
       " ('son', array([[ 0.63402253]])),\n",
       " ('sister', array([[ 0.62044709]])),\n",
       " ('widow', array([[ 0.62006242]])),\n",
       " ('crown', array([[ 0.61989454]])),\n",
       " ('emperor', array([[ 0.61912293]])),\n",
       " ('cousin', array([[ 0.6139021]])),\n",
       " ('lady', array([[ 0.60536262]])),\n",
       " ('margaret', array([[ 0.60504502]])),\n",
       " ('married', array([[ 0.59957814]])),\n",
       " ('kingdom', array([[ 0.59918958]])),\n",
       " ('marriage', array([[ 0.59697579]])),\n",
       " ('brother', array([[ 0.59032062]])),\n",
       " ('mary', array([[ 0.58871532]])),\n",
       " ('marry', array([[ 0.58868639]])),\n",
       " ('birth', array([[ 0.5865192]])),\n",
       " ('eldest', array([[ 0.58310285]])),\n",
       " ('niece', array([[ 0.57874601]])),\n",
       " ('death', array([[ 0.57760443]])),\n",
       " ('grandmother', array([[ 0.5748788]])),\n",
       " ('husband', array([[ 0.57346417]])),\n",
       " ('consort', array([[ 0.57087843]])),\n",
       " ('nephew', array([[ 0.56800565]])),\n",
       " ('edward', array([[ 0.56411345]])),\n",
       " ('uncle', array([[ 0.56296555]])),\n",
       " ('grandson', array([[ 0.55755594]])),\n",
       " ('woman', array([[ 0.55754869]])),\n",
       " ('catherine', array([[ 0.55535871]])),\n",
       " ('frederick', array([[ 0.55220537]])),\n",
       " ('coretta', array([[ 0.55183734]])),\n",
       " ('duke', array([[ 0.54970667]])),\n",
       " ('anne', array([[ 0.54833271]])),\n",
       " ('daughters', array([[ 0.54820696]])),\n",
       " ('empress', array([[ 0.54507777]])),\n",
       " ('royal', array([[ 0.54488121]])),\n",
       " ('family', array([[ 0.54477598]])),\n",
       " ('grandfather', array([[ 0.54444604]])),\n",
       " ('her', array([[ 0.5437125]])),\n",
       " ('reign', array([[ 0.5434579]])),\n",
       " ('elder', array([[ 0.54209905]]))]"
      ]
     },
     "execution_count": 130,
     "metadata": {},
     "output_type": "execute_result"
    }
   ],
   "source": [
    "sim_matrix_king[:50]"
   ]
  },
  {
   "cell_type": "markdown",
   "metadata": {},
   "source": [
    "#### sushi - japan + spain"
   ]
  },
  {
   "cell_type": "code",
   "execution_count": 137,
   "metadata": {
    "collapsed": false
   },
   "outputs": [
    {
     "data": {
      "text/plain": [
       "[('tapas', array([[ 0.61187109]])),\n",
       " ('provence', array([[ 0.52454662]])),\n",
       " ('paella', array([[ 0.51426447]])),\n",
       " ('wine', array([[ 0.49603065]])),\n",
       " ('bourbon', array([[ 0.49560689]]))]"
      ]
     },
     "execution_count": 137,
     "metadata": {},
     "output_type": "execute_result"
    }
   ],
   "source": [
    "sim_matrix_sushi[:5]"
   ]
  },
  {
   "cell_type": "markdown",
   "metadata": {},
   "source": [
    "#### berlin - germany + france"
   ]
  },
  {
   "cell_type": "code",
   "execution_count": 138,
   "metadata": {
    "collapsed": false
   },
   "outputs": [
    {
     "data": {
      "text/plain": [
       "[('paris', array([[ 0.88271442]])),\n",
       " ('france', array([[ 0.75580259]])),\n",
       " ('french', array([[ 0.70751649]])),\n",
       " ('prohertrib', array([[ 0.69431742]])),\n",
       " ('berlin', array([[ 0.66655615]]))]"
      ]
     },
     "execution_count": 138,
     "metadata": {},
     "output_type": "execute_result"
    }
   ],
   "source": [
    "sim_matrix_berlin[:5]"
   ]
  },
  {
   "cell_type": "markdown",
   "metadata": {},
   "source": [
    "#### bmw - germany + usa"
   ]
  },
  {
   "cell_type": "code",
   "execution_count": 140,
   "metadata": {
    "collapsed": false
   },
   "outputs": [
    {
     "data": {
      "text/plain": [
       "[('bmw', array([[ 0.64361948]])),\n",
       " ('chevrolet', array([[ 0.64332747]])),\n",
       " ('lexus', array([[ 0.59819163]])),\n",
       " ('buick', array([[ 0.58549216]])),\n",
       " ('x5', array([[ 0.5810536]])),\n",
       " ('chevy', array([[ 0.56564524]])),\n",
       " ('bmc', array([[ 0.56064426]])),\n",
       " ('infiniti', array([[ 0.55699883]])),\n",
       " ('usa', array([[ 0.55633616]])),\n",
       " ('mercedes', array([[ 0.55558025]])),\n",
       " ('cadillac', array([[ 0.55016506]])),\n",
       " ('irl', array([[ 0.54708922]])),\n",
       " ('reynard', array([[ 0.54537485]])),\n",
       " ('penske', array([[ 0.54285977]])),\n",
       " ('thunderbird', array([[ 0.54284841]])),\n",
       " ('honda', array([[ 0.53531258]])),\n",
       " ('dodge', array([[ 0.53368685]])),\n",
       " ('oldsmobile', array([[ 0.53189748]])),\n",
       " ('toyota', array([[ 0.53136199]])),\n",
       " ('nascar', array([[ 0.52928695]])),\n",
       " ('gt', array([[ 0.52010161]])),\n",
       " ('x6', array([[ 0.51657275]])),\n",
       " ('holden', array([[ 0.51657249]])),\n",
       " ('ford', array([[ 0.51360596]])),\n",
       " ('nissan', array([[ 0.51318477]])),\n",
       " ('cc', array([[ 0.5087336]])),\n",
       " ('4x4', array([[ 0.50333009]])),\n",
       " ('jaguar', array([[ 0.49886891]])),\n",
       " ('jeep', array([[ 0.49848863]])),\n",
       " ('dallara', array([[ 0.49842204]])),\n",
       " ('malibu', array([[ 0.49804754]])),\n",
       " ('volvo', array([[ 0.49249156]])),\n",
       " ('daytona', array([[ 0.49095126]])),\n",
       " ('tahoe', array([[ 0.48938281]])),\n",
       " ('indycar', array([[ 0.48782758]])),\n",
       " ('suv', array([[ 0.48719977]])),\n",
       " ('pontiac', array([[ 0.48634785]])),\n",
       " ('roadster', array([[ 0.4858331]])),\n",
       " ('oracle', array([[ 0.48389354]])),\n",
       " ('gmc', array([[ 0.48187839]])),\n",
       " ('motorsports', array([[ 0.48012283]])),\n",
       " ('z4', array([[ 0.47913573]])),\n",
       " ('mazda', array([[ 0.47835776]])),\n",
       " ('x3', array([[ 0.47813891]])),\n",
       " ('harley', array([[ 0.47491167]])),\n",
       " ('hummer', array([[ 0.47473319]])),\n",
       " ('isuzu', array([[ 0.47431251]])),\n",
       " ('roush', array([[ 0.4724543]])),\n",
       " ('acura', array([[ 0.467169]])),\n",
       " ('benz', array([[ 0.466567]]))]"
      ]
     },
     "execution_count": 140,
     "metadata": {},
     "output_type": "execute_result"
    }
   ],
   "source": [
    "sim_matrix_bmw[:50]"
   ]
  }
 ],
 "metadata": {
  "kernelspec": {
   "display_name": "Python 3",
   "language": "python",
   "name": "python3"
  },
  "language_info": {
   "codemirror_mode": {
    "name": "ipython",
    "version": 3
   },
   "file_extension": ".py",
   "mimetype": "text/x-python",
   "name": "python",
   "nbconvert_exporter": "python",
   "pygments_lexer": "ipython3",
   "version": "3.4.5"
  }
 },
 "nbformat": 4,
 "nbformat_minor": 1
}
